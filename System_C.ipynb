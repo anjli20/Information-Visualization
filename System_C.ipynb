{
 "cells": [
  {
   "cell_type": "code",
   "execution_count": 2,
   "id": "b43eafa9",
   "metadata": {},
   "outputs": [],
   "source": [
    "# !pip install altair vega_datasets"
   ]
  },
  {
   "cell_type": "code",
   "execution_count": 3,
   "id": "a7a5a088",
   "metadata": {},
   "outputs": [
    {
     "data": {
      "text/plain": [
       "DataTransformerRegistry.enable('default')"
      ]
     },
     "execution_count": 3,
     "metadata": {},
     "output_type": "execute_result"
    }
   ],
   "source": [
    "\n",
    "# Import necessary libraries for data manipulation and visualization\n",
    "import pandas as pd\n",
    "import altair as alt\n",
    "from datetime import datetime, timedelta\n",
    "\n",
    "# Disable max rows to allow Altair to work with larger datasets\n",
    "alt.data_transformers.disable_max_rows()\n"
   ]
  },
  {
   "cell_type": "code",
   "execution_count": 4,
   "id": "195843c4",
   "metadata": {},
   "outputs": [],
   "source": [
    "\n",
    "# Load accident data from the specified dataset\n",
    "accident_dataset = pd.read_csv('filtered_dataset_1_california.csv') \n",
    "\n",
    "# Define key features to consider in road conditions\n",
    "important_road_features = ['Crossing', 'Bump', 'Traffic_Signal', 'Junction']\n",
    "\n",
    "# Remove rows with missing values in the important road features\n",
    "filtered_accident_data = accident_dataset.dropna(subset=important_road_features)\n"
   ]
  },
  {
   "cell_type": "code",
   "execution_count": 5,
   "id": "d6c2fe29",
   "metadata": {},
   "outputs": [
    {
     "name": "stderr",
     "output_type": "stream",
     "text": [
      "C:\\Users\\Simran\\Anaconda\\Lib\\site-packages\\altair\\utils\\deprecation.py:65: AltairDeprecationWarning: 'selection' is deprecated.\n",
      "   Use 'selection_point()' or 'selection_interval()' instead; these functions also include more helpful docstrings.\n",
      "  warnings.warn(message, AltairDeprecationWarning, stacklevel=1)\n"
     ]
    }
   ],
   "source": [
    "# Task 1 and Task 2: Analyze accident frequency in major cities and the impact of weather on accident severity\n",
    "\n",
    "# Initialize a selection mechanism for interactive visualization linking\n",
    "selection_brush = alt.selection(type='interval')\n",
    "\n",
    "# Determine the top 50 cities by accident records\n",
    "top_cities = filtered_accident_data['City'].value_counts().head(50).index\n",
    "\n",
    "# Keep only the data from these top 50 cities\n",
    "city_specific_data = filtered_accident_data[filtered_accident_data['City'].isin(top_cities)]\n",
    "\n",
    "# Generate a heatmap to display accident frequency by city\n",
    "city_accident_heatmap = alt.Chart(city_specific_data).mark_rect().encode(\n",
    "    y=alt.Y('City:N', sort='-x'),  # Sort cities on the y-axis\n",
    "    color=alt.Color('count():Q', scale=alt.Scale(scheme='reds'), legend=alt.Legend(title=\"Accident Counts\")),  # Apply a red color scheme for visual impact\n",
    "    x=alt.X('count()', title='Number of Records')  # X-axis represents the count of records per city\n",
    ").properties(\n",
    "    width=200,  # Heatmap width\n",
    "    height=500,  # Heatmap height\n",
    "    title='Accident Frequency in Top 50 Cities of California'\n",
    ").add_params(selection_brush)\n",
    "\n",
    "# Prepare data for analyzing weather impact on accident severity\n",
    "weather_impact_data = city_specific_data[['City', 'Weather_Condition', 'Severity', 'Temperature(F)', 'Humidity(%)','Pressure(in)']]\n",
    "\n",
    "# Generate a SPLOM to explore correlations between weather conditions and accident severity\n",
    "weather_severity_splom = alt.Chart(weather_impact_data).mark_circle().encode(\n",
    "    alt.X(alt.repeat(\"column\"), type='quantitative', scale=alt.Scale(zero=False)),\n",
    "    alt.Y(alt.repeat(\"row\"), type='quantitative', scale=alt.Scale(zero=False)),\n",
    "    color=alt.Color('Severity:N', scale=alt.Scale(range=['yellow', 'lightcoral', 'red', 'darkred']), legend=alt.Legend(title=\"Severity Levels\")),  # Severity color coding\n",
    "    tooltip=['City:N', 'Weather_Condition:N', 'Severity:Q', 'Temperature(F):Q', 'Humidity(%):Q', 'Pressure(in):Q']\n",
    ").properties(\n",
    "    width=150,  # SPLOM chart width\n",
    "    height=150  # SPLOM chart height\n",
    ").repeat(\n",
    "    row=['Temperature(F)', 'Humidity(%)', 'Pressure(in)'],\n",
    "    column=['Temperature(F)', 'Humidity(%)', 'Pressure(in)']\n",
    ").transform_filter(\n",
    "    selection_brush\n",
    ").properties(\n",
    "    title='Weather Conditions vs. Accident Severity SPLOM'\n",
    ")\n",
    "\n",
    "# Compile heatmap and SPLOM into a unified dashboard view\n",
    "comprehensive_dashboard = alt.hconcat(city_accident_heatmap, weather_severity_splom)\n"
   ]
  },
  {
   "cell_type": "code",
   "execution_count": 6,
   "id": "b3126477",
   "metadata": {},
   "outputs": [
    {
     "name": "stderr",
     "output_type": "stream",
     "text": [
      "C:\\Users\\Simran\\Anaconda\\Lib\\site-packages\\altair\\utils\\deprecation.py:65: AltairDeprecationWarning: 'selection_single' is deprecated.  Use 'selection_point'\n",
      "  warnings.warn(message, AltairDeprecationWarning, stacklevel=1)\n",
      "C:\\Users\\Simran\\Anaconda\\Lib\\site-packages\\altair\\vegalite\\v5\\api.py:398: AltairDeprecationWarning: The value of 'empty' should be True or False.\n",
      "  warnings.warn(\n",
      "C:\\Users\\Simran\\Anaconda\\Lib\\site-packages\\altair\\utils\\deprecation.py:65: AltairDeprecationWarning: 'add_selection' is deprecated. Use 'add_params' instead.\n",
      "  warnings.warn(message, AltairDeprecationWarning, stacklevel=1)\n"
     ]
    }
   ],
   "source": [
    "#Task3 : Effect of road conditions on severity of accident\n",
    "\n",
    "# Convert boolean road feature columns to string for display purposes\n",
    "for feature in important_road_features:\n",
    "    filtered_accident_data[feature] = filtered_accident_data[feature].astype(str)\n",
    "\n",
    "# Highlight selection for interactivity within the bar plots\n",
    "highlight_selection = alt.selection_single(on='mouseover', empty='none')\n",
    "\n",
    "# Create bar plots for each road feature to display its impact on accident severity\n",
    "barplot_list = []\n",
    "for feature in important_road_features:\n",
    "    barplot = alt.Chart(filtered_accident_data).mark_bar().encode(\n",
    "        x=alt.X('average(Severity):Q', title='Average Severity'),\n",
    "        y=alt.Y(\n",
    "            f'{feature}_Presence:N',\n",
    "            axis=alt.Axis(title=None),\n",
    "            scale=alt.Scale(domain=['Presence', 'Absence'])\n",
    "        ),\n",
    "        color=alt.condition(\n",
    "            alt.datum[f'{feature}_Presence'] == 'Presence',\n",
    "            alt.value('lightsalmon'),  # Color for presence of the feature\n",
    "            alt.value('darkred')  # Color for absence of the feature\n",
    "        ),\n",
    "        opacity=alt.condition(\n",
    "            highlight_selection,\n",
    "            alt.value(1),  # Full opacity for selected bars\n",
    "            alt.value(0.7)  # Reduced opacity otherwise\n",
    "        )\n",
    "    ).transform_calculate(\n",
    "        # Create a new field in the data to indicate presence or absence of the feature\n",
    "        **{f'{feature}_Presence': f'if(datum.{feature} == \"True\", \"Presence\", \"Absence\")'}\n",
    "    ).properties(\n",
    "        width=200,\n",
    "        height=50,  # Adjust the height for clear visibility\n",
    "        title=f'Impact of {feature} on Accident Severity'  # Dynamic title based on the feature\n",
    "    ).add_selection(\n",
    "        highlight_selection  # Add the interactive highlight selection\n",
    "    )\n",
    "    barplot_list.append(barplot)  # Append the configured barplot to the list\n",
    "\n",
    "# Concatenate all bar plots vertically to form a comprehensive visualization\n",
    "combined_bar_charts = alt.vconcat(*barplot_list).properties(title=\"Impact of Road Conditions on Accident Severity\")\n",
    "\n",
    "#combined_chart\n"
   ]
  },
  {
   "cell_type": "code",
   "execution_count": 7,
   "id": "126cd264",
   "metadata": {},
   "outputs": [],
   "source": [
    "# Task 4: Identify the peak hours of accidents\n",
    "\n",
    "# Reload the dataset to ensure it's in its original state for this task\n",
    "original_accident_data = pd.read_csv('filtered_dataset_1_california.csv')\n",
    "\n",
    "# Convert the 'Start_Time' column to datetime format for easier manipulation\n",
    "original_accident_data['Start_Time'] = pd.to_datetime(original_accident_data['Start_Time'])\n",
    "\n",
    "# Extract the hour from the 'Start_Time' and format it into 12-hour AM/PM format\n",
    "original_accident_data['Hour_of_Day_AMPM'] = original_accident_data['Start_Time'].dt.strftime('%I %p')\n",
    "\n",
    "# Generate a histogram to visualize the number of accidents occurring at different hours of the day\n",
    "accident_hour_histogram = alt.Chart(original_accident_data).mark_area(\n",
    "    line={'color': 'darkred'},  # Use a dark red color for the line for better visibility\n",
    "    color=alt.Gradient(\n",
    "        gradient='linear',  # Linear gradient for the fill color\n",
    "        stops=[alt.GradientStop(color='lightcoral', offset=0),  # Begin with light coral\n",
    "               alt.GradientStop(color='white', offset=1)],  # Transition to white\n",
    "        x1=1, x2=1, y1=1, y2=0\n",
    "    )\n",
    ").encode(\n",
    "    x=alt.X('Hour_of_Day_AMPM:N', title='Hour of the Day', sort='ascending'),  # Sort the x-axis to maintain chronological order\n",
    "    y=alt.Y('count()', title='Number of Accidents'),  # Y-axis represents the count of accidents\n",
    "    tooltip=[alt.Tooltip('count()', title='Number of Accidents'), 'Hour_of_Day_AMPM']  # Tooltip for detailed information\n",
    ").properties(\n",
    "    title='Accidents by Hour of the Day (AM/PM)',  # Chart title\n",
    "    width=600,  # Chart width\n",
    "    height=400  # Chart height\n",
    ").interactive()  # Enable interactivity\n",
    "\n",
    "# Combine the previous visualizations with the histogram into an extended dashboard\n",
    "final_dashboard_extended = alt.vconcat(comprehensive_dashboard, accident_hour_histogram)\n",
    "\n",
    "# Display the final extended dashboard\n",
    "# final_dashboard_extended\n"
   ]
  },
  {
   "cell_type": "code",
   "execution_count": 8,
   "id": "4c78a33d",
   "metadata": {},
   "outputs": [],
   "source": [
    "# Finalize and combine the visualizations into one comprehensive dashboard\n",
    "\n",
    "# First, combine the individual components (road condition impacts and the histogram of accidents by hour) horizontally\n",
    "extended_dashboard_components = alt.hconcat(combined_bar_charts, accident_hour_histogram).properties(\n",
    "    title=\"Detailed Analysis of Road Conditions and Accident Frequencies by Time\"\n",
    ")\n",
    "\n",
    "# Now, vertically concatenate the previously created comprehensive dashboard with the new combined components\n",
    "# This creates a multi-view visualization dashboard that incorporates all aspects of the data analysis\n",
    "final_group_7C_dashboard = alt.vconcat(comprehensive_dashboard, extended_dashboard_components).properties(\n",
    "    title=\"Comprehensive Traffic Accident Analysis Dashboard for California\"\n",
    ")\n",
    "\n",
    "# Save the final comprehensive dashboard to an HTML file for easy sharing and viewing in web browsers\n",
    "final_group_7C_dashboard.save('SystemC.html')\n",
    "\n",
    "# Optionally, display the final comprehensive dashboard in the output for an immediate view\n",
    "# final_group_7C_dashboard\n"
   ]
  },
  {
   "cell_type": "code",
   "execution_count": null,
   "id": "56d29532",
   "metadata": {},
   "outputs": [],
   "source": []
  }
 ],
 "metadata": {
  "kernelspec": {
   "display_name": "Python 3 (ipykernel)",
   "language": "python",
   "name": "python3"
  },
  "language_info": {
   "codemirror_mode": {
    "name": "ipython",
    "version": 3
   },
   "file_extension": ".py",
   "mimetype": "text/x-python",
   "name": "python",
   "nbconvert_exporter": "python",
   "pygments_lexer": "ipython3",
   "version": "3.11.5"
  }
 },
 "nbformat": 4,
 "nbformat_minor": 5
}
