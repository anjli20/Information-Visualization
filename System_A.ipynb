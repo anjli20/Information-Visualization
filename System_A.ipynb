{
 "cells": [
  {
   "cell_type": "code",
   "execution_count": 9,
   "id": "f6ae2a72",
   "metadata": {},
   "outputs": [],
   "source": [
    "# !pip install \"vegafusion[embed]>=1.4.0\""
   ]
  },
  {
   "cell_type": "code",
   "execution_count": 10,
   "id": "6ace93b4",
   "metadata": {
    "scrolled": true
   },
   "outputs": [
    {
     "data": {
      "text/plain": [
       "DataTransformerRegistry.enable('vegafusion')"
      ]
     },
     "execution_count": 10,
     "metadata": {},
     "output_type": "execute_result"
    }
   ],
   "source": [
    "import pandas as pd\n",
    "import numpy as np\n",
    "import warnings\n",
    "warnings.filterwarnings('ignore')\n",
    "import altair as alt\n",
    "\n",
    "alt.data_transformers.enable('vegafusion')"
   ]
  },
  {
   "cell_type": "code",
   "execution_count": 11,
   "id": "74c598fc",
   "metadata": {},
   "outputs": [],
   "source": [
    "sourcedata = pd.read_csv(r'filtered_dataset_1_california.csv')\n",
    "df = pd.DataFrame(sourcedata)\n",
    "df = df[df['State'] == 'CA'] \n",
    "brush = alt.selection_interval()"
   ]
  },
  {
   "cell_type": "code",
   "execution_count": 12,
   "id": "5539293c",
   "metadata": {},
   "outputs": [],
   "source": [
    "# severity colours\n",
    "severity_colors = {\n",
    "    1: 'lightblue',\n",
    "    2: 'gold',\n",
    "    3: '#ff7f00', #tangerine\n",
    "    4: '#d62728' #maroon\n",
    "}\n",
    "# Strip plot with jitter\n",
    "points = alt.Chart(df).mark_point(filled=False,size=8).encode(\n",
    "    x=alt.X('County:N', title='Counties'),\n",
    "    y=alt.Y('Start_Time:T', title='Start Time'),\n",
    "    xOffset=\"jitter:Q\",\n",
    "    color=alt.condition(brush,\n",
    "                        alt.Color('Severity:Q', scale=alt.Scale(domain=list(severity_colors.keys()), range=list(severity_colors.values())), legend = alt.Legend(title = 'Severity')),\n",
    "                        alt.value('lightgray')),\n",
    "\n",
    "    size=alt.Size('Severity:O',\n",
    "                  scale=alt.Scale(range=[10, 40, 70, 150])),\n",
    "    tooltip=['County', 'Start_Time','Weather_Condition','Temperature(F)','Humidity(%)','Pressure(in)']\n",
    ").transform_calculate(\n",
    "    jitter='random()'\n",
    ").properties(\n",
    "    width=1000,\n",
    "    height=400\n",
    ").add_params(\n",
    "    brush\n",
    ").interactive()\n",
    "points.resolve_scale(xOffset='independent')\n",
    "\n",
    "#parse the time\n",
    "df['Start_Time'] = pd.to_datetime(df['Start_Time'])\n",
    "df['Year'] = df['Start_Time'].dt.year\n",
    "df['Hour'] = df['Start_Time'].dt.hour\n",
    "#Hour slider\n",
    "hour_slider = alt.binding_range(min=0, max=23, step=1, name='Hour of each day: ')\n",
    "hour_selection = alt.selection_point(fields=['Hour'], bind=hour_slider, name=\"Select Hour\")\n",
    " \n",
    "filtered_chart = points.add_params(hour_selection).transform_filter(hour_selection)\n",
    "#Road POI\n",
    "road_conditions = [ 'Amenity','Bump', 'Crossing',  'Junction', 'Traffic_Signal',]\n",
    "df['Road_Condition'] = np.select(\n",
    "    [df[cond] == True for cond in road_conditions],\n",
    "    road_conditions,\n",
    "    default='Others'\n",
    ")\n",
    "# Dropdown for Road Conditions\n",
    "road_condition_dropdown = alt.binding_select(options=[None] + sorted(df['Road_Condition'].dropna().unique().tolist()), name='Road POI Condition: ')\n",
    "road_condition_select = alt.selection_point(fields=['Road_Condition'], bind=road_condition_dropdown, name=\"Road Condition Select\")\n",
    "selected_chart = filtered_chart.add_params(road_condition_select).transform_filter(road_condition_select)\n",
    "\n",
    "# bin weather\n",
    "weather_bins = {\n",
    "    'Clear': ['Clear', 'Fair'],\n",
    "    'Cloudy': ['Cloudy', 'Mostly Cloudy', 'Partly Cloudy', 'Scattered Clouds'],\n",
    "    'Rainy': ['Light Rain', 'Rain', 'Light Freezing Drizzle', 'Light Drizzle', 'Heavy Rain', 'Light Freezing Rain', 'Drizzle', 'Light Freezing Fog', 'Light Rain Showers', 'Showers in the Vicinity', 'T-Storm', 'Thunder', 'Patches of Fog', 'Heavy T-Storm', 'Heavy Thunderstorms and Rain', 'Funnel Cloud', 'Heavy T-Storm / Windy', 'Heavy Thunderstorms and Snow', 'Rain / Windy', 'Heavy Rain / Windy', 'Squalls', 'Heavy Ice Pellets', 'Thunder / Windy', 'Drizzle and Fog', 'T-Storm / Windy', 'Smoke / Windy', 'Haze / Windy', 'Light Drizzle / Windy', 'Widespread Dust / Windy', 'Wintry Mix', 'Wintry Mix / Windy', 'Light Snow with Thunder', 'Fog / Windy', 'Snow and Thunder', 'Sleet / Windy', 'Heavy Freezing Rain / Windy', 'Squalls / Windy', 'Light Rain Shower / Windy', 'Snow and Thunder / Windy', 'Light Sleet / Windy', 'Sand / Dust Whirlwinds', 'Mist / Windy', 'Drizzle / Windy', 'Duststorm', 'Sand / Dust Whirls Nearby', 'Thunder and Hail', 'Freezing Rain / Windy', 'Light Snow Shower / Windy', 'Partial Fog', 'Thunder / Wintry Mix / Windy', 'Patches of Fog / Windy', 'Rain and Sleet', 'Light Snow Grains', 'Partial Fog / Windy', 'Sand / Dust Whirlwinds / Windy', 'Heavy Snow with Thunder', 'Heavy Blowing Snow', 'Low Drifting Snow', 'Light Hail', 'Light Thunderstorm', 'Heavy Freezing Drizzle', 'Light Blowing Snow', 'Thunderstorms and Snow', 'Heavy Rain Showers', 'Rain Shower / Windy', 'Sleet and Thunder', 'Heavy Sleet and Thunder', 'Drifting Snow / Windy', 'Shallow Fog / Windy', 'Thunder and Hail / Windy', 'Heavy Sleet / Windy', 'Sand / Windy', 'Heavy Rain Shower / Windy', 'Blowing Snow Nearby', 'Blowing Sand', 'Heavy Rain Shower', 'Drifting Snow', 'Heavy Thunderstorms with Small Hail'],\n",
    "    'Snowy': ['Light Snow', 'Snow', 'Light Snow / Windy', 'Snow Grains', 'Snow Showers', 'Snow / Windy', 'Light Snow and Sleet', 'Snow and Sleet', 'Light Snow and Sleet / Windy', 'Snow and Sleet / Windy'],\n",
    "    'Windy': ['Blowing Dust / Windy', 'Fair / Windy', 'Mostly Cloudy / Windy', 'Light Rain / Windy', 'T-Storm / Windy', 'Blowing Snow / Windy', 'Freezing Rain / Windy', 'Light Snow and Sleet / Windy', 'Sleet and Thunder / Windy', 'Blowing Snow Nearby', 'Heavy Rain Shower / Windy'],\n",
    "    'Hail': ['Hail'],\n",
    "    'Volcanic Ash': ['Volcanic Ash'],\n",
    "    'Tornado': ['Tornado']\n",
    "}\n",
    "\n",
    "def map_weather_to_bins(weather):\n",
    "    for bin_name, bin_values in weather_bins.items():\n",
    "        if weather in bin_values:\n",
    "            return bin_name\n",
    "    return 'Other' \n",
    "\n",
    "df['Weather'] = df['Weather_Condition'].apply(map_weather_to_bins)\n",
    "chart_weather = alt.Chart(df).mark_bar().encode(\n",
    "    x=alt.X('Weather:O'),\n",
    "    y=alt.Y('count():Q'),\n",
    "    color=alt.Color('Severity:N', scale=alt.Scale(domain=list(severity_colors.keys()), range=list(severity_colors.values()), type='ordinal'), legend=None)\n",
    ").transform_filter(\n",
    "    brush\n",
    ").properties(width=200, height=200)\n",
    "\n",
    "# bin Temerature\n",
    "t_bins = [-8.0, 50, 55, 60, 65, 70, 75, 80, 85, 90, 207]\n",
    "df['Temperature'] = pd.cut(df['Temperature(F)'], bins=t_bins, labels=['<50°F', '51-55°F', '56-60', '61-65°F', '66-70°F', '71-75°F', '76-80°F', '81-85°F', '86-90°F', '>90°F'], include_lowest=True)\n",
    "chart_temperature = alt.Chart(df).mark_bar().encode(\n",
    "    x=alt.X('Temperature:O'),\n",
    "    y=alt.Y('count():Q'),\n",
    "    color=alt.Color('Severity:N', scale=alt.Scale(domain=list(severity_colors.keys()), range=list(severity_colors.values()), type='ordinal'), legend=None)\n",
    ").transform_filter(\n",
    "    brush\n",
    ").properties(width=200, height=200)\n",
    "\n",
    "# bin Humidity\n",
    "h_bins = [0, 28.5, 29, 29.5, 30, 58.63]\n",
    "df['Humidity'] = pd.cut(df['Humidity(%)'], bins=h_bins, labels=['0-20', '20-40', '40-60', '60-80', '80-100'], include_lowest=True)\n",
    "chart_humidity = alt.Chart(df).mark_bar().encode(\n",
    "    x=alt.X('Humidity:O'),\n",
    "    y=alt.Y('count():Q'),\n",
    "    color=alt.Color('Severity:N', scale=alt.Scale(domain=list(severity_colors.keys()), range=list(severity_colors.values()), type='ordinal'), legend=None)\n",
    ").transform_filter(\n",
    "    brush\n",
    ").properties(width=200, height=200)\n",
    "\n",
    "# bin Pressure\n",
    "p_bins = [0, 28.5, 29, 29.5, 30, 58.63]\n",
    "df['Pressure'] = pd.cut(df['Pressure(in)'], bins=p_bins, labels=['<28.5', '<29', '<29.5', '<30', '>=30'], include_lowest=True)\n",
    "chart_pressure = alt.Chart(df).mark_bar().encode(\n",
    "    x=alt.X('Pressure:O'),\n",
    "    y=alt.Y('count():Q'),\n",
    "    color=alt.Color('Severity:N', scale=alt.Scale(domain=list(severity_colors.keys()), range=list(severity_colors.values()), type='ordinal'), legend=None)\n",
    ").transform_filter(\n",
    "    brush\n",
    ").properties(width=200, height=200)\n",
    "\n",
    "chart = alt.hconcat(chart_weather,chart_temperature,chart_humidity,chart_pressure)\n",
    "charts = alt.vconcat(selected_chart,chart).properties(title = \"US Car Accident Analysis (California)\")\n",
    "charts.save('SystemA.html')"
   ]
  },
  {
   "cell_type": "code",
   "execution_count": null,
   "id": "73759b04",
   "metadata": {},
   "outputs": [],
   "source": []
  }
 ],
 "metadata": {
  "kernelspec": {
   "display_name": "Python 3 (ipykernel)",
   "language": "python",
   "name": "python3"
  },
  "language_info": {
   "codemirror_mode": {
    "name": "ipython",
    "version": 3
   },
   "file_extension": ".py",
   "mimetype": "text/x-python",
   "name": "python",
   "nbconvert_exporter": "python",
   "pygments_lexer": "ipython3",
   "version": "3.11.5"
  }
 },
 "nbformat": 4,
 "nbformat_minor": 5
}
